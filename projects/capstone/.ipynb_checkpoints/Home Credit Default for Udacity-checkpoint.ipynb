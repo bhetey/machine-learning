{
 "cells": [
  {
   "cell_type": "markdown",
   "metadata": {},
   "source": [
    "##### Udacity Machine Learning Capstone Project \n",
    "#### Prepared for: Udacity \n",
    "#### Prepared by: Damilola Omifare June 2018."
   ]
  },
  {
   "cell_type": "markdown",
   "metadata": {},
   "source": [
    "## Home Credit Default Risk\n",
    "##### Can you predict how capable each applicant is of repaying a loan?\n",
    "#### Overview \n",
    "This project was inspired by that fact that many people who deserves loan do not get it and ends up in the hands of untrustworthy lenders.\n",
    "This project is a competition from Kaggle. Below is the link: [Kaggle | Home Credit Default Risk Competition](https://www.kaggle.com/c/home-credit-default-risk)\n",
    "\n",
    "\n",
    "Many people struggle to get loans due to insufficient or non-existent credit histories. And, unfortunately, this population is often taken advantage of by untrustworthy lenders.\n",
    "\n",
    "![about homecredit](https://storage.googleapis.com/kaggle-media/competitions/home-credit/about-us-home-credit.jpg)       [Source : Kaggle](https://storage.googleapis.com/kaggle-media/competitions/home-credit/about-us-home-credit.jpg)\n",
    "\n",
    "Home Credit strives to broaden financial inclusion for the unbanked population by providing a positive and safe borrowing experience. In order to make sure this underserved population has a positive loan experience, Home Credit makes use of a\n",
    " \n",
    "variety of alternative data--including telco and transactional information--to predict their clients' repayment abilities.\n",
    "While Home Credit is currently using various statistical and machine learning methods to make these predictions, they're challenging Kagglers to help them unlock the full potential of their data. Doing so will ensure that clients capable of repayment are not rejected and that loans are given with a principal, maturity, and repayment calendar that will empower their clients to be successful.\n"
   ]
  },
  {
   "cell_type": "markdown",
   "metadata": {},
   "source": [
    "## Problem Statement.\n",
    "### Can you predict how capable each applicant is of repaying a loan ?\n",
    "- My analysis will be predicting how capable each applicant is at repaying a loan."
   ]
  },
  {
   "cell_type": "markdown",
   "metadata": {},
   "source": [
    "### Datasets and Inputs.\n",
    "The dataset for this project has been provided by Kaggle. <br>\n",
    "Data description is below :\n",
    "There are 7 different sources of data:\n",
    "+ **application_train/application_test**: the main training and testing data with information about each loan application at Home Credit. Every loan has its own row and is identified by the feature SK_ID_CURR. The training application data comes with the TARGET indicating **0** if the loan was repaid **`Repayers`** and **`1`** for default **`Defaulters`**\n",
    "+ **bureau**: data concerning client's previous credits from other financial institutions. Each previous credit has its own row in bureau, but one loan in the application data can have multiple previous credits.\n",
    "+ **bureau_balance**: monthly data about the previous credits in bureau. Each row is one month of a previous credit, and a single previous credit can have multiple rows, one for each month of the credit length.\n",
    "+ **previous_application**: previous applications for loans at Home Credit of clients who have loans in the application data. Each current loan in the application data can have multiple previous loans. Each previous application has one row and is identified by the feature SK_ID_PREV.\n",
    "+ **POS_CASH_BALANCE:** monthly data about previous point of sale or cash loans clients have had with Home Credit. Each row is one month of a previous point of sale or cash loan, and a single previous loan can have many rows.\n",
    "+ **credit_card_balance**: monthly data about previous credit cards clients have had with Home Credit. Each row is one month of a credit card balance, and a single credit card can have many rows.\n",
    "+ **installments_payment**: payment history for previous loans at Home Credit. There is one row for every made payment and one row for every missed payment.\n",
    "For more information on what each data represents, please read the [PROPOSAL]('/Users/bhetey/version_control/machine-learning/projects/capstone/proposal.pdf'), or [Kaggle](https://www.kaggle.com/c/home-credit-default-risk) <br>\n",
    "- Below is a diagram of how the data are connected. \n",
    "![Data structure](https://storage.googleapis.com/kaggle-media/competitions/home-credit/home_credit.png)"
   ]
  },
  {
   "cell_type": "markdown",
   "metadata": {},
   "source": [
    "### Loading Data "
   ]
  },
  {
   "cell_type": "code",
   "execution_count": 1,
   "metadata": {},
   "outputs": [
    {
     "data": {
      "text/plain": [
       "['/Users/bhetey/.kaggle/competitions/home-credit-default-risk/application_test.csv',\n",
       " '/Users/bhetey/.kaggle/competitions/home-credit-default-risk/HomeCredit_columns_description.csv',\n",
       " '/Users/bhetey/.kaggle/competitions/home-credit-default-risk/POS_CASH_balance.csv',\n",
       " '/Users/bhetey/.kaggle/competitions/home-credit-default-risk/credit_card_balance.csv',\n",
       " '/Users/bhetey/.kaggle/competitions/home-credit-default-risk/installments_payments.csv',\n",
       " '/Users/bhetey/.kaggle/competitions/home-credit-default-risk/application_train.csv',\n",
       " '/Users/bhetey/.kaggle/competitions/home-credit-default-risk/bureau.csv',\n",
       " '/Users/bhetey/.kaggle/competitions/home-credit-default-risk/previous_application.csv',\n",
       " '/Users/bhetey/.kaggle/competitions/home-credit-default-risk/bureau_balance.csv',\n",
       " '/Users/bhetey/.kaggle/competitions/home-credit-default-risk/sample_submission.csv']"
      ]
     },
     "execution_count": 1,
     "metadata": {},
     "output_type": "execute_result"
    }
   ],
   "source": [
    "from __future__ import division\n",
    "import pandas as pd # this is to import the pandas module\n",
    "import numpy as np # importing the numpy module \n",
    "import os # file system management \n",
    "import zipfile # module to read ZIP archive files.\n",
    "from glob import glob \n",
    "import seaborn as sns\n",
    "import matplotlib.pyplot as plt\n",
    "\n",
    "# Figures inline and set visualization style\n",
    "%matplotlib inline\n",
    "sns.set()\n",
    "\n",
    "filenames = glob('/Users/bhetey/.kaggle/competitions/home-credit-default-risk/*.csv')\n",
    "filenames "
   ]
  },
  {
   "cell_type": "code",
   "execution_count": 2,
   "metadata": {},
   "outputs": [],
   "source": [
    "# reading the data with pandas \n",
    "def reading_csv_file(filename):\n",
    "    return pd.read_csv(filename)"
   ]
  },
  {
   "cell_type": "code",
   "execution_count": 3,
   "metadata": {},
   "outputs": [
    {
     "name": "stdout",
     "output_type": "stream",
     "text": [
      "Training data shape :(307511, 122)\n"
     ]
    },
    {
     "data": {
      "text/html": [
       "<div>\n",
       "<style scoped>\n",
       "    .dataframe tbody tr th:only-of-type {\n",
       "        vertical-align: middle;\n",
       "    }\n",
       "\n",
       "    .dataframe tbody tr th {\n",
       "        vertical-align: top;\n",
       "    }\n",
       "\n",
       "    .dataframe thead th {\n",
       "        text-align: right;\n",
       "    }\n",
       "</style>\n",
       "<table border=\"1\" class=\"dataframe\">\n",
       "  <thead>\n",
       "    <tr style=\"text-align: right;\">\n",
       "      <th></th>\n",
       "      <th>SK_ID_CURR</th>\n",
       "      <th>TARGET</th>\n",
       "      <th>NAME_CONTRACT_TYPE</th>\n",
       "      <th>CODE_GENDER</th>\n",
       "      <th>FLAG_OWN_CAR</th>\n",
       "      <th>FLAG_OWN_REALTY</th>\n",
       "      <th>CNT_CHILDREN</th>\n",
       "      <th>AMT_INCOME_TOTAL</th>\n",
       "      <th>AMT_CREDIT</th>\n",
       "      <th>AMT_ANNUITY</th>\n",
       "      <th>...</th>\n",
       "      <th>FLAG_DOCUMENT_18</th>\n",
       "      <th>FLAG_DOCUMENT_19</th>\n",
       "      <th>FLAG_DOCUMENT_20</th>\n",
       "      <th>FLAG_DOCUMENT_21</th>\n",
       "      <th>AMT_REQ_CREDIT_BUREAU_HOUR</th>\n",
       "      <th>AMT_REQ_CREDIT_BUREAU_DAY</th>\n",
       "      <th>AMT_REQ_CREDIT_BUREAU_WEEK</th>\n",
       "      <th>AMT_REQ_CREDIT_BUREAU_MON</th>\n",
       "      <th>AMT_REQ_CREDIT_BUREAU_QRT</th>\n",
       "      <th>AMT_REQ_CREDIT_BUREAU_YEAR</th>\n",
       "    </tr>\n",
       "  </thead>\n",
       "  <tbody>\n",
       "    <tr>\n",
       "      <th>0</th>\n",
       "      <td>100002</td>\n",
       "      <td>1</td>\n",
       "      <td>Cash loans</td>\n",
       "      <td>M</td>\n",
       "      <td>N</td>\n",
       "      <td>Y</td>\n",
       "      <td>0</td>\n",
       "      <td>202500.0</td>\n",
       "      <td>406597.5</td>\n",
       "      <td>24700.5</td>\n",
       "      <td>...</td>\n",
       "      <td>0</td>\n",
       "      <td>0</td>\n",
       "      <td>0</td>\n",
       "      <td>0</td>\n",
       "      <td>0.0</td>\n",
       "      <td>0.0</td>\n",
       "      <td>0.0</td>\n",
       "      <td>0.0</td>\n",
       "      <td>0.0</td>\n",
       "      <td>1.0</td>\n",
       "    </tr>\n",
       "    <tr>\n",
       "      <th>1</th>\n",
       "      <td>100003</td>\n",
       "      <td>0</td>\n",
       "      <td>Cash loans</td>\n",
       "      <td>F</td>\n",
       "      <td>N</td>\n",
       "      <td>N</td>\n",
       "      <td>0</td>\n",
       "      <td>270000.0</td>\n",
       "      <td>1293502.5</td>\n",
       "      <td>35698.5</td>\n",
       "      <td>...</td>\n",
       "      <td>0</td>\n",
       "      <td>0</td>\n",
       "      <td>0</td>\n",
       "      <td>0</td>\n",
       "      <td>0.0</td>\n",
       "      <td>0.0</td>\n",
       "      <td>0.0</td>\n",
       "      <td>0.0</td>\n",
       "      <td>0.0</td>\n",
       "      <td>0.0</td>\n",
       "    </tr>\n",
       "    <tr>\n",
       "      <th>2</th>\n",
       "      <td>100004</td>\n",
       "      <td>0</td>\n",
       "      <td>Revolving loans</td>\n",
       "      <td>M</td>\n",
       "      <td>Y</td>\n",
       "      <td>Y</td>\n",
       "      <td>0</td>\n",
       "      <td>67500.0</td>\n",
       "      <td>135000.0</td>\n",
       "      <td>6750.0</td>\n",
       "      <td>...</td>\n",
       "      <td>0</td>\n",
       "      <td>0</td>\n",
       "      <td>0</td>\n",
       "      <td>0</td>\n",
       "      <td>0.0</td>\n",
       "      <td>0.0</td>\n",
       "      <td>0.0</td>\n",
       "      <td>0.0</td>\n",
       "      <td>0.0</td>\n",
       "      <td>0.0</td>\n",
       "    </tr>\n",
       "    <tr>\n",
       "      <th>3</th>\n",
       "      <td>100006</td>\n",
       "      <td>0</td>\n",
       "      <td>Cash loans</td>\n",
       "      <td>F</td>\n",
       "      <td>N</td>\n",
       "      <td>Y</td>\n",
       "      <td>0</td>\n",
       "      <td>135000.0</td>\n",
       "      <td>312682.5</td>\n",
       "      <td>29686.5</td>\n",
       "      <td>...</td>\n",
       "      <td>0</td>\n",
       "      <td>0</td>\n",
       "      <td>0</td>\n",
       "      <td>0</td>\n",
       "      <td>NaN</td>\n",
       "      <td>NaN</td>\n",
       "      <td>NaN</td>\n",
       "      <td>NaN</td>\n",
       "      <td>NaN</td>\n",
       "      <td>NaN</td>\n",
       "    </tr>\n",
       "    <tr>\n",
       "      <th>4</th>\n",
       "      <td>100007</td>\n",
       "      <td>0</td>\n",
       "      <td>Cash loans</td>\n",
       "      <td>M</td>\n",
       "      <td>N</td>\n",
       "      <td>Y</td>\n",
       "      <td>0</td>\n",
       "      <td>121500.0</td>\n",
       "      <td>513000.0</td>\n",
       "      <td>21865.5</td>\n",
       "      <td>...</td>\n",
       "      <td>0</td>\n",
       "      <td>0</td>\n",
       "      <td>0</td>\n",
       "      <td>0</td>\n",
       "      <td>0.0</td>\n",
       "      <td>0.0</td>\n",
       "      <td>0.0</td>\n",
       "      <td>0.0</td>\n",
       "      <td>0.0</td>\n",
       "      <td>0.0</td>\n",
       "    </tr>\n",
       "  </tbody>\n",
       "</table>\n",
       "<p>5 rows × 122 columns</p>\n",
       "</div>"
      ],
      "text/plain": [
       "   SK_ID_CURR  TARGET NAME_CONTRACT_TYPE CODE_GENDER FLAG_OWN_CAR  \\\n",
       "0      100002       1         Cash loans           M            N   \n",
       "1      100003       0         Cash loans           F            N   \n",
       "2      100004       0    Revolving loans           M            Y   \n",
       "3      100006       0         Cash loans           F            N   \n",
       "4      100007       0         Cash loans           M            N   \n",
       "\n",
       "  FLAG_OWN_REALTY  CNT_CHILDREN  AMT_INCOME_TOTAL  AMT_CREDIT  AMT_ANNUITY  \\\n",
       "0               Y             0          202500.0    406597.5      24700.5   \n",
       "1               N             0          270000.0   1293502.5      35698.5   \n",
       "2               Y             0           67500.0    135000.0       6750.0   \n",
       "3               Y             0          135000.0    312682.5      29686.5   \n",
       "4               Y             0          121500.0    513000.0      21865.5   \n",
       "\n",
       "              ...              FLAG_DOCUMENT_18 FLAG_DOCUMENT_19  \\\n",
       "0             ...                             0                0   \n",
       "1             ...                             0                0   \n",
       "2             ...                             0                0   \n",
       "3             ...                             0                0   \n",
       "4             ...                             0                0   \n",
       "\n",
       "  FLAG_DOCUMENT_20 FLAG_DOCUMENT_21 AMT_REQ_CREDIT_BUREAU_HOUR  \\\n",
       "0                0                0                        0.0   \n",
       "1                0                0                        0.0   \n",
       "2                0                0                        0.0   \n",
       "3                0                0                        NaN   \n",
       "4                0                0                        0.0   \n",
       "\n",
       "  AMT_REQ_CREDIT_BUREAU_DAY  AMT_REQ_CREDIT_BUREAU_WEEK  \\\n",
       "0                       0.0                         0.0   \n",
       "1                       0.0                         0.0   \n",
       "2                       0.0                         0.0   \n",
       "3                       NaN                         NaN   \n",
       "4                       0.0                         0.0   \n",
       "\n",
       "   AMT_REQ_CREDIT_BUREAU_MON  AMT_REQ_CREDIT_BUREAU_QRT  \\\n",
       "0                        0.0                        0.0   \n",
       "1                        0.0                        0.0   \n",
       "2                        0.0                        0.0   \n",
       "3                        NaN                        NaN   \n",
       "4                        0.0                        0.0   \n",
       "\n",
       "   AMT_REQ_CREDIT_BUREAU_YEAR  \n",
       "0                         1.0  \n",
       "1                         0.0  \n",
       "2                         0.0  \n",
       "3                         NaN  \n",
       "4                         0.0  \n",
       "\n",
       "[5 rows x 122 columns]"
      ]
     },
     "execution_count": 3,
     "metadata": {},
     "output_type": "execute_result"
    }
   ],
   "source": [
    "app_train = reading_csv_file(filenames[5])\n",
    "print 'Training data shape :{}'.format(app_train.shape)\n",
    "app_train.head()"
   ]
  },
  {
   "cell_type": "markdown",
   "metadata": {},
   "source": [
    "Training data has 307511 rows (*each one represents separate loan*) and 112 featurees (columns) including the TARGET(What is to be predicted)"
   ]
  },
  {
   "cell_type": "code",
   "execution_count": 4,
   "metadata": {},
   "outputs": [
    {
     "data": {
      "text/plain": [
       "0    1\n",
       "1    0\n",
       "2    0\n",
       "3    0\n",
       "4    0\n",
       "Name: TARGET, dtype: int64"
      ]
     },
     "execution_count": 4,
     "metadata": {},
     "output_type": "execute_result"
    }
   ],
   "source": [
    "y = app_train.TARGET # y is going to be our target variable\n",
    "y.head()"
   ]
  },
  {
   "cell_type": "code",
   "execution_count": 5,
   "metadata": {},
   "outputs": [
    {
     "name": "stdout",
     "output_type": "stream",
     "text": [
      "Testing test contains :(48744, 121)\n"
     ]
    },
    {
     "data": {
      "text/html": [
       "<div>\n",
       "<style scoped>\n",
       "    .dataframe tbody tr th:only-of-type {\n",
       "        vertical-align: middle;\n",
       "    }\n",
       "\n",
       "    .dataframe tbody tr th {\n",
       "        vertical-align: top;\n",
       "    }\n",
       "\n",
       "    .dataframe thead th {\n",
       "        text-align: right;\n",
       "    }\n",
       "</style>\n",
       "<table border=\"1\" class=\"dataframe\">\n",
       "  <thead>\n",
       "    <tr style=\"text-align: right;\">\n",
       "      <th></th>\n",
       "      <th>SK_ID_CURR</th>\n",
       "      <th>NAME_CONTRACT_TYPE</th>\n",
       "      <th>CODE_GENDER</th>\n",
       "      <th>FLAG_OWN_CAR</th>\n",
       "      <th>FLAG_OWN_REALTY</th>\n",
       "      <th>CNT_CHILDREN</th>\n",
       "      <th>AMT_INCOME_TOTAL</th>\n",
       "      <th>AMT_CREDIT</th>\n",
       "      <th>AMT_ANNUITY</th>\n",
       "      <th>AMT_GOODS_PRICE</th>\n",
       "      <th>...</th>\n",
       "      <th>FLAG_DOCUMENT_18</th>\n",
       "      <th>FLAG_DOCUMENT_19</th>\n",
       "      <th>FLAG_DOCUMENT_20</th>\n",
       "      <th>FLAG_DOCUMENT_21</th>\n",
       "      <th>AMT_REQ_CREDIT_BUREAU_HOUR</th>\n",
       "      <th>AMT_REQ_CREDIT_BUREAU_DAY</th>\n",
       "      <th>AMT_REQ_CREDIT_BUREAU_WEEK</th>\n",
       "      <th>AMT_REQ_CREDIT_BUREAU_MON</th>\n",
       "      <th>AMT_REQ_CREDIT_BUREAU_QRT</th>\n",
       "      <th>AMT_REQ_CREDIT_BUREAU_YEAR</th>\n",
       "    </tr>\n",
       "  </thead>\n",
       "  <tbody>\n",
       "    <tr>\n",
       "      <th>0</th>\n",
       "      <td>100001</td>\n",
       "      <td>Cash loans</td>\n",
       "      <td>F</td>\n",
       "      <td>N</td>\n",
       "      <td>Y</td>\n",
       "      <td>0</td>\n",
       "      <td>135000.0</td>\n",
       "      <td>568800.0</td>\n",
       "      <td>20560.5</td>\n",
       "      <td>450000.0</td>\n",
       "      <td>...</td>\n",
       "      <td>0</td>\n",
       "      <td>0</td>\n",
       "      <td>0</td>\n",
       "      <td>0</td>\n",
       "      <td>0.0</td>\n",
       "      <td>0.0</td>\n",
       "      <td>0.0</td>\n",
       "      <td>0.0</td>\n",
       "      <td>0.0</td>\n",
       "      <td>0.0</td>\n",
       "    </tr>\n",
       "    <tr>\n",
       "      <th>1</th>\n",
       "      <td>100005</td>\n",
       "      <td>Cash loans</td>\n",
       "      <td>M</td>\n",
       "      <td>N</td>\n",
       "      <td>Y</td>\n",
       "      <td>0</td>\n",
       "      <td>99000.0</td>\n",
       "      <td>222768.0</td>\n",
       "      <td>17370.0</td>\n",
       "      <td>180000.0</td>\n",
       "      <td>...</td>\n",
       "      <td>0</td>\n",
       "      <td>0</td>\n",
       "      <td>0</td>\n",
       "      <td>0</td>\n",
       "      <td>0.0</td>\n",
       "      <td>0.0</td>\n",
       "      <td>0.0</td>\n",
       "      <td>0.0</td>\n",
       "      <td>0.0</td>\n",
       "      <td>3.0</td>\n",
       "    </tr>\n",
       "    <tr>\n",
       "      <th>2</th>\n",
       "      <td>100013</td>\n",
       "      <td>Cash loans</td>\n",
       "      <td>M</td>\n",
       "      <td>Y</td>\n",
       "      <td>Y</td>\n",
       "      <td>0</td>\n",
       "      <td>202500.0</td>\n",
       "      <td>663264.0</td>\n",
       "      <td>69777.0</td>\n",
       "      <td>630000.0</td>\n",
       "      <td>...</td>\n",
       "      <td>0</td>\n",
       "      <td>0</td>\n",
       "      <td>0</td>\n",
       "      <td>0</td>\n",
       "      <td>0.0</td>\n",
       "      <td>0.0</td>\n",
       "      <td>0.0</td>\n",
       "      <td>0.0</td>\n",
       "      <td>1.0</td>\n",
       "      <td>4.0</td>\n",
       "    </tr>\n",
       "    <tr>\n",
       "      <th>3</th>\n",
       "      <td>100028</td>\n",
       "      <td>Cash loans</td>\n",
       "      <td>F</td>\n",
       "      <td>N</td>\n",
       "      <td>Y</td>\n",
       "      <td>2</td>\n",
       "      <td>315000.0</td>\n",
       "      <td>1575000.0</td>\n",
       "      <td>49018.5</td>\n",
       "      <td>1575000.0</td>\n",
       "      <td>...</td>\n",
       "      <td>0</td>\n",
       "      <td>0</td>\n",
       "      <td>0</td>\n",
       "      <td>0</td>\n",
       "      <td>0.0</td>\n",
       "      <td>0.0</td>\n",
       "      <td>0.0</td>\n",
       "      <td>0.0</td>\n",
       "      <td>0.0</td>\n",
       "      <td>3.0</td>\n",
       "    </tr>\n",
       "    <tr>\n",
       "      <th>4</th>\n",
       "      <td>100038</td>\n",
       "      <td>Cash loans</td>\n",
       "      <td>M</td>\n",
       "      <td>Y</td>\n",
       "      <td>N</td>\n",
       "      <td>1</td>\n",
       "      <td>180000.0</td>\n",
       "      <td>625500.0</td>\n",
       "      <td>32067.0</td>\n",
       "      <td>625500.0</td>\n",
       "      <td>...</td>\n",
       "      <td>0</td>\n",
       "      <td>0</td>\n",
       "      <td>0</td>\n",
       "      <td>0</td>\n",
       "      <td>NaN</td>\n",
       "      <td>NaN</td>\n",
       "      <td>NaN</td>\n",
       "      <td>NaN</td>\n",
       "      <td>NaN</td>\n",
       "      <td>NaN</td>\n",
       "    </tr>\n",
       "  </tbody>\n",
       "</table>\n",
       "<p>5 rows × 121 columns</p>\n",
       "</div>"
      ],
      "text/plain": [
       "   SK_ID_CURR NAME_CONTRACT_TYPE CODE_GENDER FLAG_OWN_CAR FLAG_OWN_REALTY  \\\n",
       "0      100001         Cash loans           F            N               Y   \n",
       "1      100005         Cash loans           M            N               Y   \n",
       "2      100013         Cash loans           M            Y               Y   \n",
       "3      100028         Cash loans           F            N               Y   \n",
       "4      100038         Cash loans           M            Y               N   \n",
       "\n",
       "   CNT_CHILDREN  AMT_INCOME_TOTAL  AMT_CREDIT  AMT_ANNUITY  AMT_GOODS_PRICE  \\\n",
       "0             0          135000.0    568800.0      20560.5         450000.0   \n",
       "1             0           99000.0    222768.0      17370.0         180000.0   \n",
       "2             0          202500.0    663264.0      69777.0         630000.0   \n",
       "3             2          315000.0   1575000.0      49018.5        1575000.0   \n",
       "4             1          180000.0    625500.0      32067.0         625500.0   \n",
       "\n",
       "              ...             FLAG_DOCUMENT_18 FLAG_DOCUMENT_19  \\\n",
       "0             ...                            0                0   \n",
       "1             ...                            0                0   \n",
       "2             ...                            0                0   \n",
       "3             ...                            0                0   \n",
       "4             ...                            0                0   \n",
       "\n",
       "  FLAG_DOCUMENT_20 FLAG_DOCUMENT_21 AMT_REQ_CREDIT_BUREAU_HOUR  \\\n",
       "0                0                0                        0.0   \n",
       "1                0                0                        0.0   \n",
       "2                0                0                        0.0   \n",
       "3                0                0                        0.0   \n",
       "4                0                0                        NaN   \n",
       "\n",
       "   AMT_REQ_CREDIT_BUREAU_DAY  AMT_REQ_CREDIT_BUREAU_WEEK  \\\n",
       "0                        0.0                         0.0   \n",
       "1                        0.0                         0.0   \n",
       "2                        0.0                         0.0   \n",
       "3                        0.0                         0.0   \n",
       "4                        NaN                         NaN   \n",
       "\n",
       "   AMT_REQ_CREDIT_BUREAU_MON  AMT_REQ_CREDIT_BUREAU_QRT  \\\n",
       "0                        0.0                        0.0   \n",
       "1                        0.0                        0.0   \n",
       "2                        0.0                        1.0   \n",
       "3                        0.0                        0.0   \n",
       "4                        NaN                        NaN   \n",
       "\n",
       "   AMT_REQ_CREDIT_BUREAU_YEAR  \n",
       "0                         0.0  \n",
       "1                         3.0  \n",
       "2                         4.0  \n",
       "3                         3.0  \n",
       "4                         NaN  \n",
       "\n",
       "[5 rows x 121 columns]"
      ]
     },
     "execution_count": 5,
     "metadata": {},
     "output_type": "execute_result"
    }
   ],
   "source": [
    "app_test = reading_csv_file(filenames[0])\n",
    "print 'Testing test contains :{}'.format(app_test.shape)\n",
    "app_test.head(5)"
   ]
  },
  {
   "cell_type": "markdown",
   "metadata": {},
   "source": [
    "The Testing set does not have target variable "
   ]
  },
  {
   "cell_type": "code",
   "execution_count": 6,
   "metadata": {},
   "outputs": [
    {
     "data": {
      "text/plain": [
       "False"
      ]
     },
     "execution_count": 6,
     "metadata": {},
     "output_type": "execute_result"
    }
   ],
   "source": [
    "# traing and testing set do not have the same shape. \n",
    "app_train.shape == app_test.shape "
   ]
  },
  {
   "cell_type": "markdown",
   "metadata": {},
   "source": [
    "### Data conversion in pandas DataFrame"
   ]
  },
  {
   "cell_type": "code",
   "execution_count": 7,
   "metadata": {},
   "outputs": [],
   "source": [
    "# converted all csv in pandas dataframe. \n",
    "homeCredit_col_description = reading_csv_file(filenames[1])\n",
    "pos_cash_balancee = reading_csv_file(filenames[2])\n",
    "credit_card_bal = reading_csv_file(filenames[3])\n",
    "installment_payment = reading_csv_file(filenames[4])\n",
    "app_train = reading_csv_file(filenames[5])\n",
    "bureau = reading_csv_file(filenames[6])\n",
    "previous_app = reading_csv_file(filenames[7])\n",
    "bureau_bal = reading_csv_file(filenames[8])"
   ]
  },
  {
   "cell_type": "markdown",
   "metadata": {},
   "source": [
    "HomeCredit Columns Description gives us the details about each features in the dataset "
   ]
  },
  {
   "cell_type": "code",
   "execution_count": 8,
   "metadata": {},
   "outputs": [
    {
     "data": {
      "text/plain": [
       "['application_test.csv',\n",
       " 'POS_CASH_balance.csv',\n",
       " 'credit_card_balance.csv',\n",
       " 'installments_payments.csv',\n",
       " 'application_train.csv',\n",
       " 'bureau.csv',\n",
       " 'previous_application.csv',\n",
       " 'bureau_balance.csv']"
      ]
     },
     "execution_count": 8,
     "metadata": {},
     "output_type": "execute_result"
    }
   ],
   "source": [
    "# this is done for indexing of the joint data later \n",
    "data = (os.listdir(\"/Users/bhetey/.kaggle/competitions/home-credit-default-risk/\"))\n",
    "data.remove('.DS_Store')\n",
    "data.remove('HomeCredit_columns_description.csv')\n",
    "data.remove('sample_submission.csv')\n",
    "data"
   ]
  },
  {
   "cell_type": "code",
   "execution_count": 9,
   "metadata": {},
   "outputs": [
    {
     "data": {
      "text/plain": [
       "array(['ID of loan in our sample',\n",
       "       'Target variable (1 - client with payment difficulties: he/she had late payment more than X days on at least one of the first Y installments of the loan in our sample, 0 - all other cases)',\n",
       "       'Identification if loan is cash or revolving',\n",
       "       'Gender of the client', 'Flag if the client owns a car',\n",
       "       'Flag if client owns a house or flat',\n",
       "       'Number of children the client has', 'Income of the client',\n",
       "       'Credit amount of the loan', 'Loan annuity',\n",
       "       'For consumer loans it is the price of the goods for which the loan is given',\n",
       "       'Who was accompanying client when he was applying for the loan',\n",
       "       'Clients income type (businessman, working, maternity leave,\\x85)',\n",
       "       'Level of highest education the client achieved',\n",
       "       'Family status of the client',\n",
       "       'What is the housing situation of the client (renting, living with parents, ...)',\n",
       "       'Normalized population of region where client lives (higher number means the client lives in more populated region)',\n",
       "       \"Client's age in days at the time of application\",\n",
       "       'How many days before the application the person started current employment',\n",
       "       'How many days before the application did client change his registration',\n",
       "       'How many days before the application did client change the identity document with which he applied for the loan',\n",
       "       \"Age of client's car\",\n",
       "       'Did client provide mobile phone (1=YES, 0=NO)',\n",
       "       'Did client provide work phone (1=YES, 0=NO)',\n",
       "       'Did client provide home phone (1=YES, 0=NO)',\n",
       "       'Was mobile phone reachable (1=YES, 0=NO)',\n",
       "       'Did client provide email (1=YES, 0=NO)',\n",
       "       'What kind of occupation does the client have',\n",
       "       'How many family members does client have',\n",
       "       'Our rating of the region where client lives (1,2,3)',\n",
       "       'Our rating of the region where client lives with taking city into account (1,2,3)',\n",
       "       'On which day of the week did the client apply for the loan',\n",
       "       'Approximately at what hour did the client apply for the loan',\n",
       "       \"Flag if client's permanent address does not match contact address (1=different, 0=same, at region level)\",\n",
       "       \"Flag if client's permanent address does not match work address (1=different, 0=same, at region level)\",\n",
       "       \"Flag if client's contact address does not match work address (1=different, 0=same, at region level)\",\n",
       "       \"Flag if client's permanent address does not match contact address (1=different, 0=same, at city level)\",\n",
       "       \"Flag if client's permanent address does not match work address (1=different, 0=same, at city level)\",\n",
       "       \"Flag if client's contact address does not match work address (1=different, 0=same, at city level)\",\n",
       "       'Type of organization where client works',\n",
       "       'Normalized score from external data source',\n",
       "       'Normalized information about building where the client lives, What is average (_AVG suffix), modus (_MODE suffix), median (_MEDI suffix) apartment size, common area, living area, age of building, number of elevators, number of entrances, state of the building, number of floor',\n",
       "       \"How many observation of client's social surroundings with observable 30 DPD (days past due) default\",\n",
       "       \"How many observation of client's social surroundings defaulted on 30 DPD (days past due) \",\n",
       "       \"How many observation of client's social surroundings with observable 60 DPD (days past due) default\",\n",
       "       \"How many observation of client's social surroundings defaulted on 60 (days past due) DPD\",\n",
       "       'How many days before application did client change phone',\n",
       "       'Did client provide document 2', 'Did client provide document 3',\n",
       "       'Did client provide document 4', 'Did client provide document 5',\n",
       "       'Did client provide document 6', 'Did client provide document 7',\n",
       "       'Did client provide document 8', 'Did client provide document 9',\n",
       "       'Did client provide document 10', 'Did client provide document 11',\n",
       "       'Did client provide document 12', 'Did client provide document 13',\n",
       "       'Did client provide document 14', 'Did client provide document 15',\n",
       "       'Did client provide document 16', 'Did client provide document 17',\n",
       "       'Did client provide document 18', 'Did client provide document 19',\n",
       "       'Did client provide document 20', 'Did client provide document 21',\n",
       "       'Number of enquiries to Credit Bureau about the client one hour before application',\n",
       "       'Number of enquiries to Credit Bureau about the client one day before application (excluding one hour before application)',\n",
       "       'Number of enquiries to Credit Bureau about the client one week before application (excluding one day before application)',\n",
       "       'Number of enquiries to Credit Bureau about the client one month before application (excluding one week before application)',\n",
       "       'Number of enquiries to Credit Bureau about the client 3 month before application (excluding one month before application)',\n",
       "       'Number of enquiries to Credit Bureau about the client one day year (excluding last 3 months before application)',\n",
       "       'ID of loan in our sample - one loan in our sample can have 0,1,2 or more related previous credits in credit bureau ',\n",
       "       'Recoded ID of previous Credit Bureau credit related to our loan (unique coding for each loan application)',\n",
       "       'Status of the Credit Bureau (CB) reported credits',\n",
       "       'Recoded currency of the Credit Bureau credit',\n",
       "       'How many days before current application did client apply for Credit Bureau credit',\n",
       "       'Number of days past due on CB credit at the time of application for related loan in our sample',\n",
       "       'Remaining duration of CB credit (in days) at the time of application in Home Credit',\n",
       "       'Days since CB credit ended at the time of application in Home Credit (only for closed credit)',\n",
       "       'Maximal amount overdue on the Credit Bureau credit so far (at application date of loan in our sample)',\n",
       "       'How many times was the Credit Bureau credit prolonged',\n",
       "       'Current credit amount for the Credit Bureau credit',\n",
       "       'Current debt on Credit Bureau credit',\n",
       "       'Current credit limit of credit card reported in Credit Bureau',\n",
       "       'Current amount overdue on Credit Bureau credit',\n",
       "       'Type of Credit Bureau credit (Car, cash,...)',\n",
       "       'How many days before loan application did last information about the Credit Bureau credit come',\n",
       "       'Annuity of the Credit Bureau credit',\n",
       "       'Recoded ID of Credit Bureau credit (unique coding for each application) - use this to join to CREDIT_BUREAU table ',\n",
       "       'Month of balance relative to application date (-1 means the freshest balance date)',\n",
       "       'Status of Credit Bureau loan during the month (active, closed, DPD0-30,\\x85 [C means closed, X means status unknown, 0 means no DPD, 1 means maximal did during month between 1-30, 2 means DPD 31-60,\\x85 5 means DPD 120+ or sold or written off ] )',\n",
       "       'ID of previous credit in Home Credit related to loan in our sample. (One loan in our sample can have 0,1,2 or more previous loans in Home Credit)',\n",
       "       'Month of balance relative to application date (-1 means the information to the freshest monthly snapshot, 0 means the information at application - often it will be the same as -1 as many banks are not updating the information to Credit Bureau regularly )',\n",
       "       'Term of previous credit (can change over time)',\n",
       "       'Installments left to pay on the previous credit',\n",
       "       'Contract status during the month',\n",
       "       'DPD (days past due) during the month of previous credit',\n",
       "       'DPD during the month with tolerance (debts with low loan amounts are ignored) of the previous credit',\n",
       "       'ID of previous credit in Home credit related to loan in our sample. (One loan in our sample can have 0,1,2 or more previous loans in Home Credit)',\n",
       "       'Balance during the month of previous credit',\n",
       "       'Credit card limit during the month of the previous credit',\n",
       "       'Amount drawing at ATM during the month of the previous credit',\n",
       "       'Amount drawing during the month of the previous credit',\n",
       "       'Amount of other drawings during the month of the previous credit',\n",
       "       'Amount drawing or buying goods during the month of the previous credit',\n",
       "       'Minimal installment for this month of the previous credit',\n",
       "       'How much did the client pay during the month on the previous credit',\n",
       "       'How much did the client pay during the month in total on the previous credit',\n",
       "       'Amount receivable for principal on the previous credit',\n",
       "       'Amount receivable on the previous credit',\n",
       "       'Total amount receivable on the previous credit',\n",
       "       'Number of drawings at ATM during this month on the previous credit',\n",
       "       'Number of drawings during this month on the previous credit',\n",
       "       'Number of other drawings during this month on the previous credit',\n",
       "       'Number of drawings for goods during this month on the previous credit',\n",
       "       'Number of paid installments on the previous credit',\n",
       "       'Contract status (active signed,...) on the previous credit',\n",
       "       'DPD (Days past due) during the month on the previous credit',\n",
       "       'DPD (Days past due) during the month with tolerance (debts with low loan amounts are ignored) of the previous credit',\n",
       "       'ID of previous credit in Home credit related to loan in our sample. (One loan in our sample can have 0,1,2 or more previous loan applications in Home Credit, previous application could, but not necessarily have to lead to credit) ',\n",
       "       'Contract product type (Cash loan, consumer loan [POS] ,...) of the previous application',\n",
       "       'Annuity of previous application',\n",
       "       'For how much credit did client ask on the previous application',\n",
       "       'Final credit amount on the previous application. This differs from AMT_APPLICATION in a way that the AMT_APPLICATION is the amount for which the client initially applied for, but during our approval process he could have received different amount - AMT_CREDIT',\n",
       "       'Down payment on the previous application',\n",
       "       'Goods price of good that client asked for (if applicable) on the previous application',\n",
       "       'On which day of the week did the client apply for previous application',\n",
       "       'Approximately at what day hour did the client apply for the previous application',\n",
       "       'Flag if it was last application for the previous contract. Sometimes by mistake of client or our clerk there could be more applications for one single contract',\n",
       "       'Flag if the application was the last application per day of the client. Sometimes clients apply for more applications a day. Rarely it could also be error in our system that one application is in the database twice',\n",
       "       'Flag Micro finance loan',\n",
       "       'Down payment rate normalized on previous credit',\n",
       "       'Interest rate normalized on previous credit',\n",
       "       'Purpose of the cash loan',\n",
       "       'Contract status (approved, cancelled, ...) of previous application',\n",
       "       'Relative to current application when was the decision about previous application made',\n",
       "       'Payment method that client chose to pay for the previous application',\n",
       "       'Why was the previous application rejected',\n",
       "       'Who accompanied client when applying for the previous application',\n",
       "       'Was the client old or new client when applying for the previous application',\n",
       "       'What kind of goods did the client apply for in the previous application',\n",
       "       'Was the previous application for CASH, POS, CAR, \\x85',\n",
       "       'Was the previous application x-sell o walk-in',\n",
       "       'Through which channel we acquired the client on the previous application',\n",
       "       'Selling area of seller place of the previous application',\n",
       "       'The industry of the seller',\n",
       "       'Term of previous credit at application of the previous application',\n",
       "       'Grouped interest rate into small medium and high of the previous application',\n",
       "       'Detailed product combination of the previous application',\n",
       "       'Relative to application date of current application when was the first disbursement of the previous application',\n",
       "       'Relative to application date of current application when was the first due supposed to be of the previous application',\n",
       "       'Relative to application date of current application when was the first due of the previous application',\n",
       "       'Relative to application date of current application when was the last due date of the previous application',\n",
       "       'Relative to application date of current application when was the expected termination of the previous application',\n",
       "       'Did the client requested insurance during the previous application',\n",
       "       'Version of installment calendar (0 is for credit card) of previous credit. Change of installment version from month to month signifies that some parameter of payment calendar has changed',\n",
       "       'On which installment we observe payment',\n",
       "       'When the installment of previous credit was supposed to be paid (relative to application date of current loan)',\n",
       "       'When was the installments of previous credit paid actually (relative to application date of current loan)',\n",
       "       'What was the prescribed installment amount of previous credit on this installment',\n",
       "       'What the client actually paid on previous credit on this installment'], dtype=object)"
      ]
     },
     "execution_count": 9,
     "metadata": {},
     "output_type": "execute_result"
    }
   ],
   "source": [
    "# get the whole description of each columns \n",
    "homeCredit_col_description['Description'].unique()"
   ]
  },
  {
   "cell_type": "markdown",
   "metadata": {},
   "source": [
    "### Visual Exploratory Data Analysis (EDA)"
   ]
  },
  {
   "cell_type": "code",
   "execution_count": 10,
   "metadata": {
    "scrolled": true
   },
   "outputs": [
    {
     "name": "stdout",
     "output_type": "stream",
     "text": [
      "0    282686\n",
      "1     24825\n",
      "Name: TARGET, dtype: int64\n"
     ]
    },
    {
     "data": {
      "text/html": [
       "<div>\n",
       "<style scoped>\n",
       "    .dataframe tbody tr th:only-of-type {\n",
       "        vertical-align: middle;\n",
       "    }\n",
       "\n",
       "    .dataframe tbody tr th {\n",
       "        vertical-align: top;\n",
       "    }\n",
       "\n",
       "    .dataframe thead th {\n",
       "        text-align: right;\n",
       "    }\n",
       "</style>\n",
       "<table border=\"1\" class=\"dataframe\">\n",
       "  <thead>\n",
       "    <tr style=\"text-align: right;\">\n",
       "      <th></th>\n",
       "      <th>SK_ID_CURR</th>\n",
       "      <th>TARGET</th>\n",
       "      <th>NAME_CONTRACT_TYPE</th>\n",
       "      <th>CODE_GENDER</th>\n",
       "      <th>FLAG_OWN_CAR</th>\n",
       "      <th>FLAG_OWN_REALTY</th>\n",
       "      <th>CNT_CHILDREN</th>\n",
       "      <th>AMT_INCOME_TOTAL</th>\n",
       "      <th>AMT_CREDIT</th>\n",
       "      <th>AMT_ANNUITY</th>\n",
       "      <th>...</th>\n",
       "      <th>FLAG_DOCUMENT_18</th>\n",
       "      <th>FLAG_DOCUMENT_19</th>\n",
       "      <th>FLAG_DOCUMENT_20</th>\n",
       "      <th>FLAG_DOCUMENT_21</th>\n",
       "      <th>AMT_REQ_CREDIT_BUREAU_HOUR</th>\n",
       "      <th>AMT_REQ_CREDIT_BUREAU_DAY</th>\n",
       "      <th>AMT_REQ_CREDIT_BUREAU_WEEK</th>\n",
       "      <th>AMT_REQ_CREDIT_BUREAU_MON</th>\n",
       "      <th>AMT_REQ_CREDIT_BUREAU_QRT</th>\n",
       "      <th>AMT_REQ_CREDIT_BUREAU_YEAR</th>\n",
       "    </tr>\n",
       "  </thead>\n",
       "  <tbody>\n",
       "    <tr>\n",
       "      <th>0</th>\n",
       "      <td>100002</td>\n",
       "      <td>1</td>\n",
       "      <td>Cash loans</td>\n",
       "      <td>M</td>\n",
       "      <td>N</td>\n",
       "      <td>Y</td>\n",
       "      <td>0</td>\n",
       "      <td>202500.0</td>\n",
       "      <td>406597.5</td>\n",
       "      <td>24700.5</td>\n",
       "      <td>...</td>\n",
       "      <td>0</td>\n",
       "      <td>0</td>\n",
       "      <td>0</td>\n",
       "      <td>0</td>\n",
       "      <td>0.0</td>\n",
       "      <td>0.0</td>\n",
       "      <td>0.0</td>\n",
       "      <td>0.0</td>\n",
       "      <td>0.0</td>\n",
       "      <td>1.0</td>\n",
       "    </tr>\n",
       "    <tr>\n",
       "      <th>1</th>\n",
       "      <td>100003</td>\n",
       "      <td>0</td>\n",
       "      <td>Cash loans</td>\n",
       "      <td>F</td>\n",
       "      <td>N</td>\n",
       "      <td>N</td>\n",
       "      <td>0</td>\n",
       "      <td>270000.0</td>\n",
       "      <td>1293502.5</td>\n",
       "      <td>35698.5</td>\n",
       "      <td>...</td>\n",
       "      <td>0</td>\n",
       "      <td>0</td>\n",
       "      <td>0</td>\n",
       "      <td>0</td>\n",
       "      <td>0.0</td>\n",
       "      <td>0.0</td>\n",
       "      <td>0.0</td>\n",
       "      <td>0.0</td>\n",
       "      <td>0.0</td>\n",
       "      <td>0.0</td>\n",
       "    </tr>\n",
       "    <tr>\n",
       "      <th>2</th>\n",
       "      <td>100004</td>\n",
       "      <td>0</td>\n",
       "      <td>Revolving loans</td>\n",
       "      <td>M</td>\n",
       "      <td>Y</td>\n",
       "      <td>Y</td>\n",
       "      <td>0</td>\n",
       "      <td>67500.0</td>\n",
       "      <td>135000.0</td>\n",
       "      <td>6750.0</td>\n",
       "      <td>...</td>\n",
       "      <td>0</td>\n",
       "      <td>0</td>\n",
       "      <td>0</td>\n",
       "      <td>0</td>\n",
       "      <td>0.0</td>\n",
       "      <td>0.0</td>\n",
       "      <td>0.0</td>\n",
       "      <td>0.0</td>\n",
       "      <td>0.0</td>\n",
       "      <td>0.0</td>\n",
       "    </tr>\n",
       "    <tr>\n",
       "      <th>3</th>\n",
       "      <td>100006</td>\n",
       "      <td>0</td>\n",
       "      <td>Cash loans</td>\n",
       "      <td>F</td>\n",
       "      <td>N</td>\n",
       "      <td>Y</td>\n",
       "      <td>0</td>\n",
       "      <td>135000.0</td>\n",
       "      <td>312682.5</td>\n",
       "      <td>29686.5</td>\n",
       "      <td>...</td>\n",
       "      <td>0</td>\n",
       "      <td>0</td>\n",
       "      <td>0</td>\n",
       "      <td>0</td>\n",
       "      <td>NaN</td>\n",
       "      <td>NaN</td>\n",
       "      <td>NaN</td>\n",
       "      <td>NaN</td>\n",
       "      <td>NaN</td>\n",
       "      <td>NaN</td>\n",
       "    </tr>\n",
       "    <tr>\n",
       "      <th>4</th>\n",
       "      <td>100007</td>\n",
       "      <td>0</td>\n",
       "      <td>Cash loans</td>\n",
       "      <td>M</td>\n",
       "      <td>N</td>\n",
       "      <td>Y</td>\n",
       "      <td>0</td>\n",
       "      <td>121500.0</td>\n",
       "      <td>513000.0</td>\n",
       "      <td>21865.5</td>\n",
       "      <td>...</td>\n",
       "      <td>0</td>\n",
       "      <td>0</td>\n",
       "      <td>0</td>\n",
       "      <td>0</td>\n",
       "      <td>0.0</td>\n",
       "      <td>0.0</td>\n",
       "      <td>0.0</td>\n",
       "      <td>0.0</td>\n",
       "      <td>0.0</td>\n",
       "      <td>0.0</td>\n",
       "    </tr>\n",
       "  </tbody>\n",
       "</table>\n",
       "<p>5 rows × 122 columns</p>\n",
       "</div>"
      ],
      "text/plain": [
       "   SK_ID_CURR  TARGET NAME_CONTRACT_TYPE CODE_GENDER FLAG_OWN_CAR  \\\n",
       "0      100002       1         Cash loans           M            N   \n",
       "1      100003       0         Cash loans           F            N   \n",
       "2      100004       0    Revolving loans           M            Y   \n",
       "3      100006       0         Cash loans           F            N   \n",
       "4      100007       0         Cash loans           M            N   \n",
       "\n",
       "  FLAG_OWN_REALTY  CNT_CHILDREN  AMT_INCOME_TOTAL  AMT_CREDIT  AMT_ANNUITY  \\\n",
       "0               Y             0          202500.0    406597.5      24700.5   \n",
       "1               N             0          270000.0   1293502.5      35698.5   \n",
       "2               Y             0           67500.0    135000.0       6750.0   \n",
       "3               Y             0          135000.0    312682.5      29686.5   \n",
       "4               Y             0          121500.0    513000.0      21865.5   \n",
       "\n",
       "              ...              FLAG_DOCUMENT_18 FLAG_DOCUMENT_19  \\\n",
       "0             ...                             0                0   \n",
       "1             ...                             0                0   \n",
       "2             ...                             0                0   \n",
       "3             ...                             0                0   \n",
       "4             ...                             0                0   \n",
       "\n",
       "  FLAG_DOCUMENT_20 FLAG_DOCUMENT_21 AMT_REQ_CREDIT_BUREAU_HOUR  \\\n",
       "0                0                0                        0.0   \n",
       "1                0                0                        0.0   \n",
       "2                0                0                        0.0   \n",
       "3                0                0                        NaN   \n",
       "4                0                0                        0.0   \n",
       "\n",
       "  AMT_REQ_CREDIT_BUREAU_DAY  AMT_REQ_CREDIT_BUREAU_WEEK  \\\n",
       "0                       0.0                         0.0   \n",
       "1                       0.0                         0.0   \n",
       "2                       0.0                         0.0   \n",
       "3                       NaN                         NaN   \n",
       "4                       0.0                         0.0   \n",
       "\n",
       "   AMT_REQ_CREDIT_BUREAU_MON  AMT_REQ_CREDIT_BUREAU_QRT  \\\n",
       "0                        0.0                        0.0   \n",
       "1                        0.0                        0.0   \n",
       "2                        0.0                        0.0   \n",
       "3                        NaN                        NaN   \n",
       "4                        0.0                        0.0   \n",
       "\n",
       "   AMT_REQ_CREDIT_BUREAU_YEAR  \n",
       "0                         1.0  \n",
       "1                         0.0  \n",
       "2                         0.0  \n",
       "3                         NaN  \n",
       "4                         0.0  \n",
       "\n",
       "[5 rows x 122 columns]"
      ]
     },
     "execution_count": 10,
     "metadata": {},
     "output_type": "execute_result"
    }
   ],
   "source": [
    "print app_train['TARGET'].value_counts()\n",
    "app_train.head(5)"
   ]
  },
  {
   "cell_type": "markdown",
   "metadata": {},
   "source": [
    "+ ### How many people repay loans : \n",
    "**Take away here is that**: Looking at the picture below, **`1`** for **Defaulter** and **`0`** for  **Repayers**. The image below shows that most applicant pay back the loan. This is what we called [Imbalanced Class Problem](http://www.chioka.in/class-imbalance-problem/). The differences between Repayer and Defaulter is too big "
   ]
  },
  {
   "cell_type": "code",
   "execution_count": 11,
   "metadata": {},
   "outputs": [
    {
     "data": {
      "text/plain": [
       "<matplotlib.axes._subplots.AxesSubplot at 0x1acb580950>"
      ]
     },
     "execution_count": 11,
     "metadata": {},
     "output_type": "execute_result"
    },
    {
     "data": {
      "image/png": "[encoded data removed]",
      "text/plain": [
       "<Figure size 432x288 with 1 Axes>"
      ]
     },
     "metadata": {},
     "output_type": "display_data"
    }
   ],
   "source": [
    "sns.countplot(x='TARGET',hue='TARGET', data=app_train)"
   ]
  },
  {
   "cell_type": "markdown",
   "metadata": {},
   "source": [
    "+ ### What is the family status of the applicant:\n",
    "In the image, it is shown that more married candidates pay back thier loans"
   ]
  },
  {
   "cell_type": "code",
   "execution_count": 12,
   "metadata": {
    "scrolled": false
   },
   "outputs": [
    {
     "data": {
      "text/html": [
       "<div>\n",
       "<style scoped>\n",
       "    .dataframe tbody tr th:only-of-type {\n",
       "        vertical-align: middle;\n",
       "    }\n",
       "\n",
       "    .dataframe tbody tr th {\n",
       "        vertical-align: top;\n",
       "    }\n",
       "\n",
       "    .dataframe thead th {\n",
       "        text-align: right;\n",
       "    }\n",
       "</style>\n",
       "<table border=\"1\" class=\"dataframe\">\n",
       "  <thead>\n",
       "    <tr style=\"text-align: right;\">\n",
       "      <th></th>\n",
       "      <th>Repayers</th>\n",
       "      <th>Defaulters</th>\n",
       "    </tr>\n",
       "    <tr>\n",
       "      <th>NAME_FAMILY_STATUS</th>\n",
       "      <th></th>\n",
       "      <th></th>\n",
       "    </tr>\n",
       "  </thead>\n",
       "  <tbody>\n",
       "    <tr>\n",
       "      <th>Civil marriage</th>\n",
       "      <td>26814</td>\n",
       "      <td>2961</td>\n",
       "    </tr>\n",
       "    <tr>\n",
       "      <th>Married</th>\n",
       "      <td>181582</td>\n",
       "      <td>14850</td>\n",
       "    </tr>\n",
       "    <tr>\n",
       "      <th>Separated</th>\n",
       "      <td>18150</td>\n",
       "      <td>1620</td>\n",
       "    </tr>\n",
       "    <tr>\n",
       "      <th>Single / not married</th>\n",
       "      <td>40987</td>\n",
       "      <td>4457</td>\n",
       "    </tr>\n",
       "    <tr>\n",
       "      <th>Unknown</th>\n",
       "      <td>2</td>\n",
       "      <td>0</td>\n",
       "    </tr>\n",
       "    <tr>\n",
       "      <th>Widow</th>\n",
       "      <td>15151</td>\n",
       "      <td>937</td>\n",
       "    </tr>\n",
       "  </tbody>\n",
       "</table>\n",
       "</div>"
      ],
      "text/plain": [
       "                      Repayers  Defaulters\n",
       "NAME_FAMILY_STATUS                        \n",
       "Civil marriage           26814        2961\n",
       "Married                 181582       14850\n",
       "Separated                18150        1620\n",
       "Single / not married     40987        4457\n",
       "Unknown                      2           0\n",
       "Widow                    15151         937"
      ]
     },
     "execution_count": 12,
     "metadata": {},
     "output_type": "execute_result"
    },
    {
     "data": {
      "image/png": "[encoded data removed]",
      "text/plain": [
       "<Figure size 720x216 with 1 Axes>"
      ]
     },
     "metadata": {},
     "output_type": "display_data"
    }
   ],
   "source": [
    "plt.figure(figsize=(10,3))\n",
    "sns.countplot(x = \"NAME_FAMILY_STATUS\", hue = \"TARGET\", data = app_train)\n",
    "fam_stat_target = pd.crosstab(app_train['NAME_FAMILY_STATUS'], app_train['TARGET'])\n",
    "kind_of_applicant = (\"Repayers\", \"Defaulters\")\n",
    "fam_stat_target.columns = kind_of_applicant\n",
    "fam_stat_target"
   ]
  },
  {
   "cell_type": "markdown",
   "metadata": {},
   "source": [
    "+ ### What is the Income Class and Family type that default the most :   \n",
    "**The Takeaway:** Most married and working class mostly default on loan payment "
   ]
  },
  {
   "cell_type": "code",
   "execution_count": 13,
   "metadata": {},
   "outputs": [
    {
     "data": {
      "image/png": "[encoded data removed]",
      "text/plain": [
       "<Figure size 720x360 with 1 Axes>"
      ]
     },
     "metadata": {},
     "output_type": "display_data"
    }
   ],
   "source": [
    "plt.figure(figsize= (10,5))# plot the figure \n",
    "plt.show(sns.countplot(x = \"NAME_FAMILY_STATUS\", \n",
    "                       hue = \"NAME_INCOME_TYPE\" , \n",
    "                       # filter the train set by using TARGET column == 1\n",
    "                       data= app_train.loc[app_train['TARGET'] == 1])) "
   ]
  },
  {
   "cell_type": "markdown",
   "metadata": {},
   "source": [
    "Checking for missing values."
   ]
  },
  {
   "cell_type": "code",
   "execution_count": 14,
   "metadata": {},
   "outputs": [],
   "source": [
    "# below is a function to check for missing values. \n",
    "def check_missing_values(input):\n",
    "    # checking total missing values\n",
    "    total_miss_values = input.isnull().sum()\n",
    "    \n",
    "    # percentage of missing values. \n",
    "    miss_val_percent = total_miss_values/len(input)*100\n",
    "    \n",
    "    # table of total_miss_values and it's percentage\n",
    "    miss_val_percent_tab = pd.concat([total_miss_values, miss_val_percent], axis=1)\n",
    "    \n",
    "    # columns renamed\n",
    "    new_col_names = ('Missing values', 'Total missing values in %')\n",
    "    miss_val_percent_tab.columns = new_col_names\n",
    "    renamed_miss_val_percent_tab = miss_val_percent_tab\n",
    "    \n",
    "    # descending table sort \n",
    "    renamed_miss_val_percent_tab = renamed_miss_val_percent_tab[\n",
    "        renamed_miss_val_percent_tab.iloc[:,1] != 0\n",
    "    ].sort_values('Total missing values in %', ascending = False).round(1)\n",
    "    \n",
    "    # display information \n",
    "    print 'The selected dataframe has {} columns.\\n'.format(input.shape[1])\n",
    "    print 'There are {} columns missing in the dataset'.format(renamed_miss_val_percent_tab.shape[0])\n",
    "    \n",
    "    return renamed_miss_val_percent_tab"
   ]
  },
  {
   "cell_type": "code",
   "execution_count": 15,
   "metadata": {},
   "outputs": [
    {
     "name": "stdout",
     "output_type": "stream",
     "text": [
      "The selected dataframe has 122 columns.\n",
      "\n",
      "There are 67 columns missing in the dataset\n"
     ]
    },
    {
     "data": {
      "text/html": [
       "<div>\n",
       "<style scoped>\n",
       "    .dataframe tbody tr th:only-of-type {\n",
       "        vertical-align: middle;\n",
       "    }\n",
       "\n",
       "    .dataframe tbody tr th {\n",
       "        vertical-align: top;\n",
       "    }\n",
       "\n",
       "    .dataframe thead th {\n",
       "        text-align: right;\n",
       "    }\n",
       "</style>\n",
       "<table border=\"1\" class=\"dataframe\">\n",
       "  <thead>\n",
       "    <tr style=\"text-align: right;\">\n",
       "      <th></th>\n",
       "      <th>Missing values</th>\n",
       "      <th>Total missing values in %</th>\n",
       "    </tr>\n",
       "  </thead>\n",
       "  <tbody>\n",
       "    <tr>\n",
       "      <th>COMMONAREA_MEDI</th>\n",
       "      <td>214865</td>\n",
       "      <td>69.9</td>\n",
       "    </tr>\n",
       "    <tr>\n",
       "      <th>COMMONAREA_AVG</th>\n",
       "      <td>214865</td>\n",
       "      <td>69.9</td>\n",
       "    </tr>\n",
       "    <tr>\n",
       "      <th>COMMONAREA_MODE</th>\n",
       "      <td>214865</td>\n",
       "      <td>69.9</td>\n",
       "    </tr>\n",
       "    <tr>\n",
       "      <th>NONLIVINGAPARTMENTS_MEDI</th>\n",
       "      <td>213514</td>\n",
       "      <td>69.4</td>\n",
       "    </tr>\n",
       "    <tr>\n",
       "      <th>NONLIVINGAPARTMENTS_MODE</th>\n",
       "      <td>213514</td>\n",
       "      <td>69.4</td>\n",
       "    </tr>\n",
       "    <tr>\n",
       "      <th>NONLIVINGAPARTMENTS_AVG</th>\n",
       "      <td>213514</td>\n",
       "      <td>69.4</td>\n",
       "    </tr>\n",
       "    <tr>\n",
       "      <th>FONDKAPREMONT_MODE</th>\n",
       "      <td>210295</td>\n",
       "      <td>68.4</td>\n",
       "    </tr>\n",
       "    <tr>\n",
       "      <th>LIVINGAPARTMENTS_MODE</th>\n",
       "      <td>210199</td>\n",
       "      <td>68.4</td>\n",
       "    </tr>\n",
       "    <tr>\n",
       "      <th>LIVINGAPARTMENTS_MEDI</th>\n",
       "      <td>210199</td>\n",
       "      <td>68.4</td>\n",
       "    </tr>\n",
       "    <tr>\n",
       "      <th>LIVINGAPARTMENTS_AVG</th>\n",
       "      <td>210199</td>\n",
       "      <td>68.4</td>\n",
       "    </tr>\n",
       "  </tbody>\n",
       "</table>\n",
       "</div>"
      ],
      "text/plain": [
       "                          Missing values  Total missing values in %\n",
       "COMMONAREA_MEDI                   214865                       69.9\n",
       "COMMONAREA_AVG                    214865                       69.9\n",
       "COMMONAREA_MODE                   214865                       69.9\n",
       "NONLIVINGAPARTMENTS_MEDI          213514                       69.4\n",
       "NONLIVINGAPARTMENTS_MODE          213514                       69.4\n",
       "NONLIVINGAPARTMENTS_AVG           213514                       69.4\n",
       "FONDKAPREMONT_MODE                210295                       68.4\n",
       "LIVINGAPARTMENTS_MODE             210199                       68.4\n",
       "LIVINGAPARTMENTS_MEDI             210199                       68.4\n",
       "LIVINGAPARTMENTS_AVG              210199                       68.4"
      ]
     },
     "execution_count": 15,
     "metadata": {},
     "output_type": "execute_result"
    }
   ],
   "source": [
    "missing_value = check_missing_values(app_train)\n",
    "missing_value.head(10)"
   ]
  },
  {
   "cell_type": "markdown",
   "metadata": {},
   "source": [
    "**Take away :** For some machine learning models, we have to deal with the missing values buy imputing or dropping either the roles or the columns with the highest percentage of missing values. However we might be loosing some data from them. We also do not know if the data removed will harm the analysis or help it ahead of time until we experiment on them. \n",
    "Algorithmns like **XGBoost** can handle missing data without imputation. [It automatically learn how to deal with missing data point.](https://machinelearningmastery.com/data-preparation-gradient-boosting-xgboost-python/)\n",
    "+ [Additonal reading](https://arxiv.org/abs/1603.02754)"
   ]
  },
  {
   "cell_type": "markdown",
   "metadata": {},
   "source": [
    "Dealing with features "
   ]
  },
  {
   "cell_type": "markdown",
   "metadata": {},
   "source": [
    "**Obviously we have 3 data types :** Numeric and Non-numeric (e.g Text ) called _object_.\n",
    "\n",
    "Numeric can be of discrete time or continuous time horizon. \n",
    "Non_numeric are [variables containing label values rather numeric values.](https://machinelearningmastery.com/why-one-hot-encode-data-in-machine-learning/) They are sometimes called [nominal](https://en.wikipedia.org/wiki/Nominal_category)"
   ]
  },
  {
   "cell_type": "code",
   "execution_count": 16,
   "metadata": {},
   "outputs": [
    {
     "data": {
      "text/plain": [
       "float64    65\n",
       "int64      41\n",
       "object     16\n",
       "dtype: int64"
      ]
     },
     "execution_count": 16,
     "metadata": {},
     "output_type": "execute_result"
    }
   ],
   "source": [
    "app_train.get_dtype_counts() # Shows the numbers of types of values "
   ]
  },
  {
   "cell_type": "markdown",
   "metadata": {},
   "source": [
    "Looking at the dataset with object type, below is the total number of object. However since we want to work with them we will need to hot encode them. \n",
    "\n",
    "However this depends on personal view. it depend on how big the categorical variables are. \n",
    "\n",
    "One of the major problems with categorical data is that only few machine learning alogorithms works with them without any special form of implementation while others needs some implementation where the data needs to be encoded into numeric variables. \n",
    "\n",
    "How to convert categorical data into numerical data: \n",
    "+ **Integer Encoding** _where integer values have a natural ordered relationship between each other and machine learning algorithms may be able to understand and harness this relationship._ \n",
    "\n",
    "\n",
    "+ **One-Hot Encoding** _where the integer encoded variable is removed and a new binary variable is added for each unique integer value._\n",
    "\n",
    "[Read more](https://machinelearningmastery.com/why-one-hot-encode-data-in-machine-learning/)"
   ]
  },
  {
   "cell_type": "code",
   "execution_count": 17,
   "metadata": {},
   "outputs": [
    {
     "name": "stdout",
     "output_type": "stream",
     "text": [
      "Total numbe of object type is :  307511\n"
     ]
    }
   ],
   "source": [
    "print 'Total numbe of object type is : ', len(app_train.select_dtypes('object'))"
   ]
  },
  {
   "cell_type": "markdown",
   "metadata": {},
   "source": [
    "Checking the number of unique class in each object column "
   ]
  },
  {
   "cell_type": "code",
   "execution_count": 18,
   "metadata": {},
   "outputs": [
    {
     "data": {
      "text/plain": [
       "NAME_CONTRACT_TYPE             2\n",
       "CODE_GENDER                    3\n",
       "FLAG_OWN_CAR                   2\n",
       "FLAG_OWN_REALTY                2\n",
       "NAME_TYPE_SUITE                7\n",
       "NAME_INCOME_TYPE               8\n",
       "NAME_EDUCATION_TYPE            5\n",
       "NAME_FAMILY_STATUS             6\n",
       "NAME_HOUSING_TYPE              6\n",
       "OCCUPATION_TYPE               18\n",
       "WEEKDAY_APPR_PROCESS_START     7\n",
       "ORGANIZATION_TYPE             58\n",
       "FONDKAPREMONT_MODE             4\n",
       "HOUSETYPE_MODE                 3\n",
       "WALLSMATERIAL_MODE             7\n",
       "EMERGENCYSTATE_MODE            2\n",
       "dtype: int64"
      ]
     },
     "execution_count": 18,
     "metadata": {},
     "output_type": "execute_result"
    }
   ],
   "source": [
    "app_train.select_dtypes('object').apply(pd.Series.nunique, axis = 0)"
   ]
  },
  {
   "cell_type": "markdown",
   "metadata": {},
   "source": [
    "**.Describe** enerates descriptive statistics that summarize the central tendency, dispersion and shape of a dataset’s distribution, excluding NaN values.\n",
    "\n",
    "DAYS_BIRTH was originally in days and now it will be converted to years. The columns has negative as they were recorded relative to the current loan application "
   ]
  },
  {
   "cell_type": "code",
   "execution_count": 19,
   "metadata": {},
   "outputs": [
    {
     "data": {
      "text/plain": [
       "count    307511.000000\n",
       "mean         43.936973\n",
       "std          11.956133\n",
       "min          20.517808\n",
       "25%          34.008219\n",
       "50%          43.150685\n",
       "75%          53.923288\n",
       "max          69.120548\n",
       "Name: DAYS_BIRTH, dtype: float64"
      ]
     },
     "execution_count": 19,
     "metadata": {},
     "output_type": "execute_result"
    }
   ],
   "source": [
    "(app_train['DAYS_BIRTH']/-365).describe()"
   ]
  },
  {
   "cell_type": "markdown",
   "metadata": {},
   "source": [
    "Looking at the result above everything seems okay. Cannot seems to find any outlier in this analysis "
   ]
  },
  {
   "cell_type": "markdown",
   "metadata": {},
   "source": [
    "**DAYS_EMPOYED:** How many days before the application the person started current employment'\n",
    "\n",
    "This is also relative to the current loan application "
   ]
  },
  {
   "cell_type": "code",
   "execution_count": 20,
   "metadata": {},
   "outputs": [
    {
     "data": {
      "text/plain": [
       "count    307511.000000\n",
       "mean        174.835742\n",
       "std         387.056895\n",
       "min         -49.073973\n",
       "25%          -7.561644\n",
       "50%          -3.323288\n",
       "75%          -0.791781\n",
       "max        1000.665753\n",
       "Name: DAYS_EMPLOYED, dtype: float64"
      ]
     },
     "execution_count": 20,
     "metadata": {},
     "output_type": "execute_result"
    }
   ],
   "source": [
    "(app_train['DAYS_EMPLOYED']/365).describe()"
   ]
  },
  {
   "cell_type": "code",
   "execution_count": 21,
   "metadata": {},
   "outputs": [
    {
     "data": {
      "text/plain": [
       "Text(0.5,0,'NO OF DAYS EMPLOYED BEFORE APPLICATION')"
      ]
     },
     "execution_count": 21,
     "metadata": {},
     "output_type": "execute_result"
    },
    {
     "data": {
      "image/png": "[encoded data removed]",
      "text/plain": [
       "<Figure size 432x288 with 1 Axes>"
      ]
     },
     "metadata": {},
     "output_type": "display_data"
    }
   ],
   "source": [
    "(app_train['DAYS_EMPLOYED']/365).plot.hist(title = 'DAYS EMPLOYED');\n",
    "plt.xlabel('NO OF DAYS EMPLOYED BEFORE APPLICATION')"
   ]
  },
  {
   "cell_type": "markdown",
   "metadata": {},
   "source": [
    "Looking at the image above, 1000 years does not seem right. \n",
    "We will use imputation to solve this. "
   ]
  },
  {
   "cell_type": "markdown",
   "metadata": {},
   "source": [
    "### Checking correlation of the data.\n",
    "It helps to show possible relationship within our data. \n",
    "This article helps in interpreting [correlation](http://www.statstutor.ac.uk/resources/uploaded/pearsons.pdf), [How to interpret a Correlation Coefficient](https://www.dummies.com/education/math/statistics/how-to-interpret-a-correlation-coefficient-r/)"
   ]
  },
  {
   "cell_type": "code",
   "execution_count": 22,
   "metadata": {},
   "outputs": [
    {
     "name": "stdout",
     "output_type": "stream",
     "text": [
      "These are samples of negative correlations : \n",
      "EXT_SOURCE_3                 -0.178919\n",
      "EXT_SOURCE_2                 -0.160472\n",
      "EXT_SOURCE_1                 -0.155317\n",
      "DAYS_EMPLOYED                -0.044932\n",
      "FLOORSMAX_AVG                -0.044003\n",
      "FLOORSMAX_MEDI               -0.043768\n",
      "FLOORSMAX_MODE               -0.043226\n",
      "AMT_GOODS_PRICE              -0.039645\n",
      "REGION_POPULATION_RELATIVE   -0.037227\n",
      "ELEVATORS_AVG                -0.034199\n",
      "ELEVATORS_MEDI               -0.033863\n",
      "FLOORSMIN_AVG                -0.033614\n",
      "FLOORSMIN_MEDI               -0.033394\n",
      "LIVINGAREA_AVG               -0.032997\n",
      "LIVINGAREA_MEDI              -0.032739\n",
      "FLOORSMIN_MODE               -0.032698\n",
      "TOTALAREA_MODE               -0.032596\n",
      "ELEVATORS_MODE               -0.032131\n",
      "LIVINGAREA_MODE              -0.030685\n",
      "AMT_CREDIT                   -0.030369\n",
      "Name: TARGET, dtype: float64\n"
     ]
    }
   ],
   "source": [
    "data_corr = app_train.corr()['TARGET'].sort_values()\n",
    "print 'These are samples of negative correlations : \\n',data_corr.head(20)"
   ]
  },
  {
   "cell_type": "code",
   "execution_count": 23,
   "metadata": {},
   "outputs": [
    {
     "name": "stdout",
     "output_type": "stream",
     "text": [
      "These are samples of positive correlations : \n",
      "OBS_30_CNT_SOCIAL_CIRCLE       0.009131\n",
      "CNT_FAM_MEMBERS                0.009308\n",
      "CNT_CHILDREN                   0.019187\n",
      "AMT_REQ_CREDIT_BUREAU_YEAR     0.019930\n",
      "FLAG_WORK_PHONE                0.028524\n",
      "DEF_60_CNT_SOCIAL_CIRCLE       0.031276\n",
      "DEF_30_CNT_SOCIAL_CIRCLE       0.032248\n",
      "LIVE_CITY_NOT_WORK_CITY        0.032518\n",
      "OWN_CAR_AGE                    0.037612\n",
      "DAYS_REGISTRATION              0.041975\n",
      "FLAG_DOCUMENT_3                0.044346\n",
      "REG_CITY_NOT_LIVE_CITY         0.044395\n",
      "FLAG_EMP_PHONE                 0.045982\n",
      "REG_CITY_NOT_WORK_CITY         0.050994\n",
      "DAYS_ID_PUBLISH                0.051457\n",
      "DAYS_LAST_PHONE_CHANGE         0.055218\n",
      "REGION_RATING_CLIENT           0.058899\n",
      "REGION_RATING_CLIENT_W_CITY    0.060893\n",
      "DAYS_BIRTH                     0.078239\n",
      "TARGET                         1.000000\n",
      "Name: TARGET, dtype: float64\n"
     ]
    }
   ],
   "source": [
    "print 'These are samples of positive correlations : \\n', data_corr.tail(20)"
   ]
  },
  {
   "cell_type": "markdown",
   "metadata": {},
   "source": [
    "#### ONE-HOT ENCODING \n",
    "Let's **One-hot Encode** the categorical variable <br>\n",
    "We need to import the module from scikit-learn library"
   ]
  },
  {
   "cell_type": "code",
   "execution_count": 24,
   "metadata": {},
   "outputs": [
    {
     "data": {
      "text/plain": [
       "Index([u'NAME_CONTRACT_TYPE', u'CODE_GENDER', u'FLAG_OWN_CAR',\n",
       "       u'FLAG_OWN_REALTY', u'NAME_TYPE_SUITE', u'NAME_INCOME_TYPE',\n",
       "       u'NAME_EDUCATION_TYPE', u'NAME_FAMILY_STATUS', u'NAME_HOUSING_TYPE',\n",
       "       u'OCCUPATION_TYPE', u'WEEKDAY_APPR_PROCESS_START', u'ORGANIZATION_TYPE',\n",
       "       u'FONDKAPREMONT_MODE', u'HOUSETYPE_MODE', u'WALLSMATERIAL_MODE',\n",
       "       u'EMERGENCYSTATE_MODE'],\n",
       "      dtype='object')"
      ]
     },
     "execution_count": 24,
     "metadata": {},
     "output_type": "execute_result"
    }
   ],
   "source": [
    "app_train.select_dtypes('object').columns"
   ]
  },
  {
   "cell_type": "code",
   "execution_count": 25,
   "metadata": {},
   "outputs": [
    {
     "data": {
      "text/plain": [
       "False"
      ]
     },
     "execution_count": 25,
     "metadata": {},
     "output_type": "execute_result"
    }
   ],
   "source": [
    "len (app_train.columns) == len(app_train.select_dtypes('object').columns)"
   ]
  },
  {
   "cell_type": "code",
   "execution_count": 26,
   "metadata": {},
   "outputs": [
    {
     "name": "stdout",
     "output_type": "stream",
     "text": [
      "Shape of the training set after one hot encoding (307511, 246)\n",
      "Shape of the test set after one hot encoding (48744, 242)\n"
     ]
    }
   ],
   "source": [
    "from sklearn.preprocessing import OneHotEncoder\n",
    "\n",
    "one_hot_encoded_app_train = pd.get_dummies(app_train)\n",
    "one_hot_encoded_app_test = pd.get_dummies(app_test)\n",
    "\n",
    "print 'Shape of the training set after one hot encoding {}'.format(one_hot_encoded_app_train.shape)\n",
    "print 'Shape of the test set after one hot encoding {}'.format(one_hot_encoded_app_test.shape)"
   ]
  },
  {
   "cell_type": "code",
   "execution_count": 27,
   "metadata": {},
   "outputs": [
    {
     "data": {
      "text/plain": [
       "False"
      ]
     },
     "execution_count": 27,
     "metadata": {},
     "output_type": "execute_result"
    }
   ],
   "source": [
    "app_train.shape == one_hot_encoded_app_train.shape"
   ]
  },
  {
   "cell_type": "code",
   "execution_count": 28,
   "metadata": {},
   "outputs": [
    {
     "data": {
      "text/plain": [
       "(307511, 122)"
      ]
     },
     "execution_count": 28,
     "metadata": {},
     "output_type": "execute_result"
    }
   ],
   "source": [
    "app_train.shape"
   ]
  },
  {
   "cell_type": "code",
   "execution_count": 29,
   "metadata": {},
   "outputs": [
    {
     "data": {
      "text/plain": [
       "(48744, 121)"
      ]
     },
     "execution_count": 29,
     "metadata": {},
     "output_type": "execute_result"
    }
   ],
   "source": [
    "app_test.shape"
   ]
  },
  {
   "cell_type": "markdown",
   "metadata": {},
   "source": [
    "Looking at the analysis above is obvious that **One-Hot Encoding** has added extra features to the original ones we have hereby leaving our data unaligned. \n",
    "\n",
    "We need to have same features in both the training and testing data for our machine learning model to work if not we will get error when running the algorithm. \n",
    "\n",
    "**STEPS TAKING:** \n",
    "+ I decided to remove any column that is present on the training set but not on our testing set. \n",
    "+ Intuitively the **y** which is our **TARGET** is expected to  be removed as well but will add it back"
   ]
  },
  {
   "cell_type": "code",
   "execution_count": 30,
   "metadata": {},
   "outputs": [
    {
     "name": "stdout",
     "output_type": "stream",
     "text": [
      "Shape of the training set after alignment (307511, 242)\n",
      "Shape of the test set after alignment (48744, 242)\n"
     ]
    }
   ],
   "source": [
    "#https://pandas.pydata.org/pandas-docs/version/0.21/generated/pandas.DataFrame.align.html\n",
    "one_hot_encoded_app_train, one_hot_encoded_app_test = one_hot_encoded_app_train.align(one_hot_encoded_app_test,\n",
    "                                                                                      join='inner', axis=1)\n",
    "\n",
    "print 'Shape of the training set after alignment {}'.format(one_hot_encoded_app_train.shape)\n",
    "print 'Shape of the test set after alignment {}'.format(one_hot_encoded_app_test.shape)"
   ]
  },
  {
   "cell_type": "code",
   "execution_count": 31,
   "metadata": {},
   "outputs": [],
   "source": [
    "one_hot_encoded_app_train['TARGET'] = y # adding it back to the data "
   ]
  },
  {
   "cell_type": "code",
   "execution_count": 32,
   "metadata": {
    "scrolled": true
   },
   "outputs": [],
   "source": [
    "# dropping the target to get our X \n",
    "X = one_hot_encoded_app_train.drop(['TARGET'], axis=1)"
   ]
  },
  {
   "cell_type": "markdown",
   "metadata": {},
   "source": [
    "**Removing missing values**"
   ]
  },
  {
   "cell_type": "code",
   "execution_count": 33,
   "metadata": {},
   "outputs": [],
   "source": [
    "# function is to drop the missing values \n",
    "def dropping_missing_columns(input_set):\n",
    "    \"\"\"this function removes the columns with missing values.\n",
    "    However input_set is the set you will put inside in the function \n",
    "    either the training set or the test set \n",
    "    \"\"\"\n",
    "    to_drop_missing_missing_values = [\n",
    "        col for col in input_set.columns if X[col].isnull().any()\n",
    "    ]\n",
    "    return input_set.drop(to_drop_missing_missing_values, axis = 1)"
   ]
  },
  {
   "cell_type": "code",
   "execution_count": 34,
   "metadata": {},
   "outputs": [],
   "source": [
    "#assigned a variable to data after dropping the missing values \n",
    "after_removing_missing_values = dropping_missing_columns(X)\n",
    "test_removing_missing_values = dropping_missing_columns(one_hot_encoded_app_test)"
   ]
  },
  {
   "cell_type": "code",
   "execution_count": 35,
   "metadata": {},
   "outputs": [
    {
     "name": "stdout",
     "output_type": "stream",
     "text": [
      "The shape of training set after removing missing values : (307511, 181)\n",
      "The shape of testing set after removing missing values :(48744, 181)\n"
     ]
    }
   ],
   "source": [
    "print 'The shape of training set after removing missing values : {}'.format(after_removing_missing_values.shape)\n",
    "print 'The shape of testing set after removing missing values :{}'.format(test_removing_missing_values.shape)"
   ]
  },
  {
   "cell_type": "markdown",
   "metadata": {},
   "source": [
    "Looking at the dataset now after removing the **NaN** in the data, we have the columns reduced to **181 columns**"
   ]
  },
  {
   "cell_type": "markdown",
   "metadata": {},
   "source": [
    "**Imputing Nan values**"
   ]
  },
  {
   "cell_type": "code",
   "execution_count": 36,
   "metadata": {},
   "outputs": [
    {
     "name": "stdout",
     "output_type": "stream",
     "text": [
      "Transformed training set :(307511, 242)\n",
      "Transformed testing set :(48744, 242)\n",
      "The data is back to the same shape we had during the Hot coding\n"
     ]
    }
   ],
   "source": [
    "from sklearn.preprocessing import MinMaxScaler, Imputer\n",
    "\n",
    "# making a copy for the data before imputing \n",
    "train_tobe_imputed = one_hot_encoded_app_train.copy() \n",
    "test_tobe_imputed = one_hot_encoded_app_test.copy()\n",
    "new_y = y.copy() # a copy of our target \n",
    "\n",
    "# dropping the target columns before imputing \n",
    "new_X = train_tobe_imputed.drop(['TARGET'], axis=1)\n",
    "\n",
    "# calling imputer and transforming the data\n",
    "imputer = Imputer(strategy='median')\n",
    "transformed_X = imputer.fit_transform(new_X)\n",
    "transformed_test_X = imputer.fit_transform(test_tobe_imputed)\n",
    "\n",
    "print 'Transformed training set :{}'.format(transformed_X.shape)\n",
    "print 'Transformed testing set :{}'.format(transformed_test_X.shape)\n",
    "print 'The data is back to the same shape we had during the Hot coding'"
   ]
  },
  {
   "cell_type": "markdown",
   "metadata": {},
   "source": [
    "## EVALUATION METRICS "
   ]
  },
  {
   "cell_type": "markdown",
   "metadata": {},
   "source": [
    "There are different kind of evaluation metrics we can used since this is a **Classification problem.** <br>\n",
    "Below are some of the metrics : \n",
    "\n",
    "+ Classification accuracy \n",
    "+ Logarithmic Loss \n",
    "+ Area Under ROC Curve \n",
    "+ Confusion Matrix \n",
    "+ Classification report\n",
    "\n",
    "[**Read more about them**](https://machinelearningmastery.com/metrics-evaluate-machine-learning-algorithms-python/)"
   ]
  },
  {
   "cell_type": "markdown",
   "metadata": {},
   "source": [
    "### CLASSIFICATION MODELS \n",
    "Classification depends on whether the variables we are trying to predict are **Binary or Non-Binary**.\n",
    "\n",
    "**Binary variables** are those variables where the outcome we are looking are either 1 or 0, True or False. \n",
    "\n",
    "**Non-Binary variables** are those variables where the outcome we are looking are categorical. for example looking at the dataset and predicting where the color of the dress of a person will be `Yellow, Brown or Blue`\n",
    "\n",
    "#### Binary Classification Model : \n",
    "+ Logistic regression \n",
    "+ Decision Trees \n",
    "+ Support Vector Machine (SVM) : _good for anomaly detection especially in large feature sets_\n",
    "\n",
    "#### Non- Binary Classification Model: \n",
    "+ Adaboost \n",
    "+ Random Forest \n",
    "+ Decision Tree\n",
    "+ Neural Networks \n",
    "\n",
    "#### Considering choosing an algorithm, : \n",
    "+ Take note of the accuracy \n",
    "+ Training time \n",
    "+ Linearity \n",
    "+ Number of parameters \n",
    "+ Number of features \n",
    "\n",
    "[The Machine Learning Algorithm Cheat Sheet](https://docs.microsoft.com/en-us/azure/machine-learning/studio/algorithm-choice)\n",
    "\n",
    "However, I am going to try each of them and compare their performance."
   ]
  },
  {
   "cell_type": "markdown",
   "metadata": {},
   "source": [
    "### Logistic Regression Model \n",
    "This is my first model. <br>\n",
    "C is used to control overfitting and a small tends to reduce overfitting "
   ]
  },
  {
   "cell_type": "markdown",
   "metadata": {},
   "source": [
    "#### Model Evaluation using a validation set\n",
    "+ Logistic regression using the data set with dropped missing values.\n",
    "\n"
   ]
  },
  {
   "cell_type": "code",
   "execution_count": 37,
   "metadata": {},
   "outputs": [],
   "source": [
    "# Normalize time series data\n",
    "from pandas import Series\n",
    "from sklearn.preprocessing import MinMaxScaler\n",
    "\n",
    "# Scale each feature to 0-1\n",
    "scaler = MinMaxScaler(feature_range=(0, 1))\n",
    "# fit on training \n",
    "scaler = scaler.fit(after_removing_missing_values)\n",
    "#transform train and test \n",
    "scaled_train_withoutMissingValues = scaler.transform(after_removing_missing_values)\n",
    "scaled_test_withoutMissingValues = scaler.transform(test_removing_missing_values)"
   ]
  },
  {
   "cell_type": "code",
   "execution_count": 38,
   "metadata": {},
   "outputs": [
    {
     "name": "stderr",
     "output_type": "stream",
     "text": [
      "/Users/bhetey/anaconda2/envs/tensorflow_dami/lib/python2.7/site-packages/sklearn/cross_validation.py:41: DeprecationWarning: This module was deprecated in version 0.18 in favor of the model_selection module into which all the refactored classes and functions are moved. Also note that the interface of the new CV iterators are different from that of this module. This module will be removed in 0.20.\n",
      "  \"This module will be removed in 0.20.\", DeprecationWarning)\n"
     ]
    },
    {
     "name": "stdout",
     "output_type": "stream",
     "text": [
      "This accuracy seems good 0.919204970668 but need to check further for the prediction and on testing set\n",
      "[0 0 0 ..., 0 0 0]\n",
      "0.919469809308\n"
     ]
    }
   ],
   "source": [
    "# Import statements \n",
    "from sklearn.metrics import classification_report\n",
    "from sklearn import model_selection\n",
    "from sklearn.linear_model import LogisticRegression\n",
    "from sklearn.metrics import accuracy_score\n",
    "from sklearn.metrics import confusion_matrix\n",
    "from sklearn.metrics import r2_score\n",
    "from sklearn.cross_validation import train_test_split\n",
    "from sklearn import metrics\n",
    "\n",
    "X_train, X_test, y_train, y_test = train_test_split(\n",
    "    scaled_train_withoutMissingValues, y, test_size=0.25, random_state=42)\n",
    "\n",
    "# instantiate a logistic regression model, and fit with X and y\n",
    "model = LogisticRegression(C = 0.0001)\n",
    "\n",
    "# evaluate the model by splitting into train and test sets\n",
    "model.fit(X_train, y_train)\n",
    "print 'This accuracy seems good {} but need to check further for the prediction and on testing set'.format(\n",
    "    model.score(X_train, y_train))\n",
    "y_pred = model.predict(X_test)\n",
    "print y_pred\n",
    "print model.score(X_test, y_test)"
   ]
  },
  {
   "cell_type": "code",
   "execution_count": 39,
   "metadata": {},
   "outputs": [
    {
     "name": "stdout",
     "output_type": "stream",
     "text": [
      "             precision    recall  f1-score   support\n",
      "\n",
      "          0       0.92      1.00      0.96     70687\n",
      "          1       0.00      0.00      0.00      6191\n",
      "\n",
      "avg / total       0.85      0.92      0.88     76878\n",
      "\n",
      "[[70687     0]\n",
      " [ 6191     0]]\n",
      "Accuracy of the model :0.919469809308\n",
      "R2 Score for the prediction :\n",
      "0.603036017625\n"
     ]
    },
    {
     "name": "stderr",
     "output_type": "stream",
     "text": [
      "/Users/bhetey/anaconda2/envs/tensorflow_dami/lib/python2.7/site-packages/sklearn/metrics/classification.py:1135: UndefinedMetricWarning: Precision and F-score are ill-defined and being set to 0.0 in labels with no predicted samples.\n",
      "  'precision', 'predicted', average, warn_for)\n"
     ]
    }
   ],
   "source": [
    "predicting_with_test = model.predict(scaled_test_withoutMissingValues)\n",
    "predicting_probability = model.predict_proba(X_test)\n",
    "matrix = confusion_matrix(y_test, y_pred)\n",
    "scoring = accuracy_score(y_test, y_pred)\n",
    "r_score = r2_score(y_test, y_pred)\n",
    "report = classification_report(y_test, y_pred)\n",
    "print report\n",
    "print matrix\n",
    "print 'Accuracy of the model :{}'.format(scoring) \n",
    "print 'R2 Score for the prediction :'.format(r_score)\n",
    "print metrics.roc_auc_score(y_test, predicting_probability[:, 1])"
   ]
  },
  {
   "cell_type": "markdown",
   "metadata": {},
   "source": [
    "#### Model Evaluation Using Cross-Validation\n",
    "Now let's try 10-fold cross-validation, to see if the accuracy holds up more rigorously."
   ]
  },
  {
   "cell_type": "code",
   "execution_count": 40,
   "metadata": {},
   "outputs": [
    {
     "name": "stdout",
     "output_type": "stream",
     "text": [
      "[ 0.91925728  0.91925728  0.91925728  0.91925728  0.91925728  0.91928718\n",
      "  0.91928455  0.91928455  0.91928455  0.91925203]\n",
      "0.919267928911\n",
      "[0 0 0 ..., 0 0 0]\n"
     ]
    }
   ],
   "source": [
    "# evaluate the model using 10-fold cross-validation\n",
    "from sklearn.cross_validation import cross_val_score\n",
    "scores = cross_val_score(LogisticRegression(), \n",
    "                         scaled_train_withoutMissingValues, y, scoring='accuracy', cv=10)\n",
    "print scores\n",
    "print scores.mean()\n",
    "print predicting_with_test"
   ]
  },
  {
   "cell_type": "code",
   "execution_count": 41,
   "metadata": {},
   "outputs": [
    {
     "data": {
      "image/png": "[encoded data removed]",
      "text/plain": [
       "<Figure size 432x288 with 1 Axes>"
      ]
     },
     "metadata": {},
     "output_type": "display_data"
    }
   ],
   "source": [
    "from sklearn.metrics import roc_auc_score\n",
    "from sklearn.metrics import roc_curve\n",
    "roc_auc = roc_auc_score(y_test, predicting_probability[:, 1])\n",
    "fpr, tpr, thresholds = roc_curve(y_test, predicting_probability[:, 1])\n",
    "plt.figure()\n",
    "plt.plot(fpr, tpr, label='Logistic regression ROC curve (area = %0.2f)' % roc_auc)\n",
    "plt.plot([0, 1], [0, 1],'r--')\n",
    "plt.xlim([0.0, 1.0])\n",
    "plt.ylim([0.0, 1.05])\n",
    "plt.xlabel('False Positive Rate')\n",
    "plt.ylabel('True Positive Rate')\n",
    "plt.title('Receiver operating characteristic')\n",
    "plt.legend(loc=\"lower right\")\n",
    "plt.savefig('Logistic_roc')\n",
    "plt.show()"
   ]
  },
  {
   "cell_type": "markdown",
   "metadata": {},
   "source": [
    "We want to predict the probabilities of not paying a loan, so we use the model predict.proba method. This returns an m x 2 array where m is the number of observations. The first column is the probability of the target being 0 and the second column is the probability of the target being 1 (so for a single row, the two columns must sum to 1). We want the probability the loan is not repaid, so we will select the second column.\n",
    "\n",
    "The following code makes the predictions and selects the correct column.\n",
    "+ Below model is trained with training and using the provided test set for prediction "
   ]
  },
  {
   "cell_type": "code",
   "execution_count": 42,
   "metadata": {
    "scrolled": true
   },
   "outputs": [
    {
     "data": {
      "text/plain": [
       "LogisticRegression(C=0.0001, class_weight=None, dual=False,\n",
       "          fit_intercept=True, intercept_scaling=1, max_iter=100,\n",
       "          multi_class='ovr', n_jobs=1, penalty='l2', random_state=None,\n",
       "          solver='liblinear', tol=0.0001, verbose=0, warm_start=False)"
      ]
     },
     "execution_count": 42,
     "metadata": {},
     "output_type": "execute_result"
    }
   ],
   "source": [
    "logit_model = LogisticRegression(C=0.0001)\n",
    "# Train on the training data\n",
    "logit_model.fit(scaled_train_withoutMissingValues, y)"
   ]
  },
  {
   "cell_type": "code",
   "execution_count": 43,
   "metadata": {},
   "outputs": [],
   "source": [
    "# Make sure to select the second column only\n",
    "logit_model = logit_model.predict_proba(scaled_test_withoutMissingValues)[:, 1]"
   ]
  },
  {
   "cell_type": "code",
   "execution_count": 44,
   "metadata": {},
   "outputs": [
    {
     "name": "stdout",
     "output_type": "stream",
     "text": [
      "[ 0.06618764  0.12526075  0.10853851 ...,  0.05510693  0.07030372\n",
      "  0.0820307 ]\n"
     ]
    }
   ],
   "source": [
    "print logit_model"
   ]
  },
  {
   "cell_type": "code",
   "execution_count": 45,
   "metadata": {},
   "outputs": [],
   "source": [
    "#my_submission = pd.DataFrame({'SK_ID_CURR': one_hot_encoded_app_test.SK_ID_CURR, 'TARGET': logit_model})\n",
    "#my_submission.to_csv('homecredit.csv', index=False)"
   ]
  },
  {
   "cell_type": "markdown",
   "metadata": {},
   "source": [
    "+ Logistic regression with missing data imputation."
   ]
  },
  {
   "cell_type": "code",
   "execution_count": 46,
   "metadata": {},
   "outputs": [
    {
     "data": {
      "text/plain": [
       "LogisticRegression(C=0.0001, class_weight=None, dual=False,\n",
       "          fit_intercept=True, intercept_scaling=1, max_iter=100,\n",
       "          multi_class='ovr', n_jobs=1, penalty='l2', random_state=None,\n",
       "          solver='liblinear', tol=0.0001, verbose=0, warm_start=False)"
      ]
     },
     "execution_count": 46,
     "metadata": {},
     "output_type": "execute_result"
    }
   ],
   "source": [
    "scalerImput = scaler.fit(transformed_X)\n",
    "\n",
    "imputed_train = scaler.transform(transformed_X)\n",
    "imputed_test = scaler.transform(transformed_test_X)\n",
    "\n",
    "imputed_log_model = LogisticRegression(C=0.0001)\n",
    "imputed_log_model.fit(imputed_train, y)"
   ]
  },
  {
   "cell_type": "code",
   "execution_count": 47,
   "metadata": {},
   "outputs": [],
   "source": [
    "imputed_log_model = imputed_log_model.predict_proba(imputed_test)[:,1]"
   ]
  },
  {
   "cell_type": "code",
   "execution_count": 48,
   "metadata": {
    "scrolled": true
   },
   "outputs": [
    {
     "name": "stdout",
     "output_type": "stream",
     "text": [
      "[ 0.06696085  0.12826838  0.08436034 ...,  0.05764537  0.07173938\n",
      "  0.08816771]\n"
     ]
    }
   ],
   "source": [
    "print imputed_log_model"
   ]
  },
  {
   "cell_type": "markdown",
   "metadata": {},
   "source": [
    "With this prediction on kaggle i had a score of 0.675 "
   ]
  },
  {
   "cell_type": "markdown",
   "metadata": {},
   "source": [
    "### Decision Tree Model \n",
    "Here is my second model. \n",
    "+ Using the data where i removed the NaN values "
   ]
  },
  {
   "cell_type": "code",
   "execution_count": 49,
   "metadata": {},
   "outputs": [
    {
     "name": "stdout",
     "output_type": "stream",
     "text": [
      "This accuracy seems good 0.919204970668 but need to check further for the prediction and on testing set\n",
      "[0 0 0 ..., 0 0 0]\n",
      "0.919469809308\n"
     ]
    }
   ],
   "source": [
    "# import the module needed for decision tree from scikitlearn \n",
    "from sklearn import tree\n",
    "\n",
    "X_train, X_test, y_train, y_test = train_test_split(\n",
    "    scaled_train_withoutMissingValues, y, test_size=0.25, random_state=42)\n",
    "\n",
    "# instantiate a logistic regression model, and fit with X and y\n",
    "decision_tree = tree.DecisionTreeClassifier(min_samples_split=50,\n",
    "                                            criterion='entropy', \n",
    "                                            max_leaf_nodes=3, random_state=0)\n",
    "\n",
    "# evaluate the model by splitting into train and test sets\n",
    "decision_tree.fit(X_train, y_train)\n",
    "print 'This accuracy seems good {} but need to check further for the prediction and on testing set'.format(\n",
    "    decision_tree.score(X_train, y_train))\n",
    "y_pred = decision_tree.predict(X_test)\n",
    "print y_pred\n",
    "print decision_tree.score(X_test, y_test)"
   ]
  },
  {
   "cell_type": "code",
   "execution_count": 50,
   "metadata": {},
   "outputs": [],
   "source": [
    "decision_tree = tree.DecisionTreeClassifier(min_samples_split=50,\n",
    "                                            criterion='entropy',\n",
    "                                            max_leaf_nodes=3, random_state=0)\n",
    "decision_tree = decision_tree.fit(scaled_train_withoutMissingValues, y)"
   ]
  },
  {
   "cell_type": "code",
   "execution_count": 51,
   "metadata": {},
   "outputs": [],
   "source": [
    "decisionTreePrediction = decision_tree.predict_proba(scaled_test_withoutMissingValues)[:,1]"
   ]
  },
  {
   "cell_type": "code",
   "execution_count": 52,
   "metadata": {},
   "outputs": [
    {
     "data": {
      "text/plain": [
       "array([ 0.06521654,  0.06521654,  0.06521654, ...,  0.06521654,\n",
       "        0.05989243,  0.1205374 ])"
      ]
     },
     "execution_count": 52,
     "metadata": {},
     "output_type": "execute_result"
    }
   ],
   "source": [
    "decisionTreePrediction"
   ]
  },
  {
   "cell_type": "markdown",
   "metadata": {},
   "source": [
    "+ using data where the data has been imputed. "
   ]
  },
  {
   "cell_type": "code",
   "execution_count": 53,
   "metadata": {},
   "outputs": [
    {
     "data": {
      "text/plain": [
       "array([ 0.12974312,  0.13929687,  0.04763728, ...,  0.12974312,\n",
       "        0.04763728,  0.12974312])"
      ]
     },
     "execution_count": 53,
     "metadata": {},
     "output_type": "execute_result"
    }
   ],
   "source": [
    "# fit the trainning set and target to the model \n",
    "imputed_decisionTreeModel = decision_tree.fit(imputed_train, y)\n",
    "# make prediction on testing set using probability \n",
    "imputed_prediction = decision_tree.predict_proba(imputed_test)[:,1]\n",
    "imputed_prediction"
   ]
  },
  {
   "cell_type": "code",
   "execution_count": null,
   "metadata": {},
   "outputs": [],
   "source": []
  },
  {
   "cell_type": "code",
   "execution_count": null,
   "metadata": {},
   "outputs": [],
   "source": []
  }
 ],
 "metadata": {
  "kernelspec": {
   "display_name": "Python 2",
   "language": "python",
   "name": "python2"
  },
  "language_info": {
   "codemirror_mode": {
    "name": "ipython",
    "version": 2
   },
   "file_extension": ".py",
   "mimetype": "text/x-python",
   "name": "python",
   "nbconvert_exporter": "python",
   "pygments_lexer": "ipython2",
   "version": "2.7.14"
  }
 },
 "nbformat": 4,
 "nbformat_minor": 2
}
